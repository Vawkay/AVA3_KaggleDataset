{
 "cells": [
  {
   "cell_type": "code",
   "execution_count": 37,
   "id": "initial_id",
   "metadata": {
    "collapsed": true,
    "ExecuteTime": {
     "end_time": "2023-11-19T20:17:20.397833100Z",
     "start_time": "2023-11-19T20:17:20.373425800Z"
    }
   },
   "outputs": [],
   "source": [
    "import pandas as pd"
   ]
  },
  {
   "cell_type": "code",
   "execution_count": 38,
   "outputs": [],
   "source": [
    "df = pd.read_csv('melb_data.csv')"
   ],
   "metadata": {
    "collapsed": false,
    "ExecuteTime": {
     "end_time": "2023-11-19T20:17:20.454107500Z",
     "start_time": "2023-11-19T20:17:20.390090200Z"
    }
   },
   "id": "e0c7fc631a9c3391"
  },
  {
   "cell_type": "code",
   "execution_count": 39,
   "outputs": [
    {
     "data": {
      "text/plain": "              Rooms         Price      Distance      Postcode      Bedroom2  \\\ncount  13580.000000  1.358000e+04  13580.000000  13580.000000  13580.000000   \nmean       2.937997  1.075684e+06     10.137776   3105.301915      2.914728   \nstd        0.955748  6.393107e+05      5.868725     90.676964      0.965921   \nmin        1.000000  8.500000e+04      0.000000   3000.000000      0.000000   \n25%        2.000000  6.500000e+05      6.100000   3044.000000      2.000000   \n50%        3.000000  9.030000e+05      9.200000   3084.000000      3.000000   \n75%        3.000000  1.330000e+06     13.000000   3148.000000      3.000000   \nmax       10.000000  9.000000e+06     48.100000   3977.000000     20.000000   \n\n           Bathroom           Car       Landsize  BuildingArea    YearBuilt  \\\ncount  13580.000000  13518.000000   13580.000000   7130.000000  8205.000000   \nmean       1.534242      1.610075     558.416127    151.967650  1964.684217   \nstd        0.691712      0.962634    3990.669241    541.014538    37.273762   \nmin        0.000000      0.000000       0.000000      0.000000  1196.000000   \n25%        1.000000      1.000000     177.000000     93.000000  1940.000000   \n50%        1.000000      2.000000     440.000000    126.000000  1970.000000   \n75%        2.000000      2.000000     651.000000    174.000000  1999.000000   \nmax        8.000000     10.000000  433014.000000  44515.000000  2018.000000   \n\n          Lattitude    Longtitude  Propertycount  \ncount  13580.000000  13580.000000   13580.000000  \nmean     -37.809203    144.995216    7454.417378  \nstd        0.079260      0.103916    4378.581772  \nmin      -38.182550    144.431810     249.000000  \n25%      -37.856822    144.929600    4380.000000  \n50%      -37.802355    145.000100    6555.000000  \n75%      -37.756400    145.058305   10331.000000  \nmax      -37.408530    145.526350   21650.000000  ",
      "text/html": "<div>\n<style scoped>\n    .dataframe tbody tr th:only-of-type {\n        vertical-align: middle;\n    }\n\n    .dataframe tbody tr th {\n        vertical-align: top;\n    }\n\n    .dataframe thead th {\n        text-align: right;\n    }\n</style>\n<table border=\"1\" class=\"dataframe\">\n  <thead>\n    <tr style=\"text-align: right;\">\n      <th></th>\n      <th>Rooms</th>\n      <th>Price</th>\n      <th>Distance</th>\n      <th>Postcode</th>\n      <th>Bedroom2</th>\n      <th>Bathroom</th>\n      <th>Car</th>\n      <th>Landsize</th>\n      <th>BuildingArea</th>\n      <th>YearBuilt</th>\n      <th>Lattitude</th>\n      <th>Longtitude</th>\n      <th>Propertycount</th>\n    </tr>\n  </thead>\n  <tbody>\n    <tr>\n      <th>count</th>\n      <td>13580.000000</td>\n      <td>1.358000e+04</td>\n      <td>13580.000000</td>\n      <td>13580.000000</td>\n      <td>13580.000000</td>\n      <td>13580.000000</td>\n      <td>13518.000000</td>\n      <td>13580.000000</td>\n      <td>7130.000000</td>\n      <td>8205.000000</td>\n      <td>13580.000000</td>\n      <td>13580.000000</td>\n      <td>13580.000000</td>\n    </tr>\n    <tr>\n      <th>mean</th>\n      <td>2.937997</td>\n      <td>1.075684e+06</td>\n      <td>10.137776</td>\n      <td>3105.301915</td>\n      <td>2.914728</td>\n      <td>1.534242</td>\n      <td>1.610075</td>\n      <td>558.416127</td>\n      <td>151.967650</td>\n      <td>1964.684217</td>\n      <td>-37.809203</td>\n      <td>144.995216</td>\n      <td>7454.417378</td>\n    </tr>\n    <tr>\n      <th>std</th>\n      <td>0.955748</td>\n      <td>6.393107e+05</td>\n      <td>5.868725</td>\n      <td>90.676964</td>\n      <td>0.965921</td>\n      <td>0.691712</td>\n      <td>0.962634</td>\n      <td>3990.669241</td>\n      <td>541.014538</td>\n      <td>37.273762</td>\n      <td>0.079260</td>\n      <td>0.103916</td>\n      <td>4378.581772</td>\n    </tr>\n    <tr>\n      <th>min</th>\n      <td>1.000000</td>\n      <td>8.500000e+04</td>\n      <td>0.000000</td>\n      <td>3000.000000</td>\n      <td>0.000000</td>\n      <td>0.000000</td>\n      <td>0.000000</td>\n      <td>0.000000</td>\n      <td>0.000000</td>\n      <td>1196.000000</td>\n      <td>-38.182550</td>\n      <td>144.431810</td>\n      <td>249.000000</td>\n    </tr>\n    <tr>\n      <th>25%</th>\n      <td>2.000000</td>\n      <td>6.500000e+05</td>\n      <td>6.100000</td>\n      <td>3044.000000</td>\n      <td>2.000000</td>\n      <td>1.000000</td>\n      <td>1.000000</td>\n      <td>177.000000</td>\n      <td>93.000000</td>\n      <td>1940.000000</td>\n      <td>-37.856822</td>\n      <td>144.929600</td>\n      <td>4380.000000</td>\n    </tr>\n    <tr>\n      <th>50%</th>\n      <td>3.000000</td>\n      <td>9.030000e+05</td>\n      <td>9.200000</td>\n      <td>3084.000000</td>\n      <td>3.000000</td>\n      <td>1.000000</td>\n      <td>2.000000</td>\n      <td>440.000000</td>\n      <td>126.000000</td>\n      <td>1970.000000</td>\n      <td>-37.802355</td>\n      <td>145.000100</td>\n      <td>6555.000000</td>\n    </tr>\n    <tr>\n      <th>75%</th>\n      <td>3.000000</td>\n      <td>1.330000e+06</td>\n      <td>13.000000</td>\n      <td>3148.000000</td>\n      <td>3.000000</td>\n      <td>2.000000</td>\n      <td>2.000000</td>\n      <td>651.000000</td>\n      <td>174.000000</td>\n      <td>1999.000000</td>\n      <td>-37.756400</td>\n      <td>145.058305</td>\n      <td>10331.000000</td>\n    </tr>\n    <tr>\n      <th>max</th>\n      <td>10.000000</td>\n      <td>9.000000e+06</td>\n      <td>48.100000</td>\n      <td>3977.000000</td>\n      <td>20.000000</td>\n      <td>8.000000</td>\n      <td>10.000000</td>\n      <td>433014.000000</td>\n      <td>44515.000000</td>\n      <td>2018.000000</td>\n      <td>-37.408530</td>\n      <td>145.526350</td>\n      <td>21650.000000</td>\n    </tr>\n  </tbody>\n</table>\n</div>"
     },
     "execution_count": 39,
     "metadata": {},
     "output_type": "execute_result"
    }
   ],
   "source": [
    "df.describe()"
   ],
   "metadata": {
    "collapsed": false,
    "ExecuteTime": {
     "end_time": "2023-11-19T20:17:20.515588300Z",
     "start_time": "2023-11-19T20:17:20.451043200Z"
    }
   },
   "id": "baaadd99bdc973bb"
  },
  {
   "cell_type": "code",
   "execution_count": 40,
   "outputs": [
    {
     "data": {
      "text/plain": "Index(['Suburb', 'Address', 'Rooms', 'Type', 'Price', 'Method', 'SellerG',\n       'Date', 'Distance', 'Postcode', 'Bedroom2', 'Bathroom', 'Car',\n       'Landsize', 'BuildingArea', 'YearBuilt', 'CouncilArea', 'Lattitude',\n       'Longtitude', 'Regionname', 'Propertycount'],\n      dtype='object')"
     },
     "execution_count": 40,
     "metadata": {},
     "output_type": "execute_result"
    }
   ],
   "source": [
    "df.columns"
   ],
   "metadata": {
    "collapsed": false,
    "ExecuteTime": {
     "end_time": "2023-11-19T20:17:20.526643800Z",
     "start_time": "2023-11-19T20:17:20.514081600Z"
    }
   },
   "id": "ecab9ed1b3a05899"
  },
  {
   "cell_type": "code",
   "execution_count": 41,
   "outputs": [
    {
     "name": "stdout",
     "output_type": "stream",
     "text": [
      "<class 'pandas.core.frame.DataFrame'>\n",
      "RangeIndex: 13580 entries, 0 to 13579\n",
      "Data columns (total 21 columns):\n",
      " #   Column         Non-Null Count  Dtype  \n",
      "---  ------         --------------  -----  \n",
      " 0   Suburb         13580 non-null  object \n",
      " 1   Address        13580 non-null  object \n",
      " 2   Rooms          13580 non-null  int64  \n",
      " 3   Type           13580 non-null  object \n",
      " 4   Price          13580 non-null  float64\n",
      " 5   Method         13580 non-null  object \n",
      " 6   SellerG        13580 non-null  object \n",
      " 7   Date           13580 non-null  object \n",
      " 8   Distance       13580 non-null  float64\n",
      " 9   Postcode       13580 non-null  float64\n",
      " 10  Bedroom2       13580 non-null  float64\n",
      " 11  Bathroom       13580 non-null  float64\n",
      " 12  Car            13518 non-null  float64\n",
      " 13  Landsize       13580 non-null  float64\n",
      " 14  BuildingArea   7130 non-null   float64\n",
      " 15  YearBuilt      8205 non-null   float64\n",
      " 16  CouncilArea    12211 non-null  object \n",
      " 17  Lattitude      13580 non-null  float64\n",
      " 18  Longtitude     13580 non-null  float64\n",
      " 19  Regionname     13580 non-null  object \n",
      " 20  Propertycount  13580 non-null  float64\n",
      "dtypes: float64(12), int64(1), object(8)\n",
      "memory usage: 2.2+ MB\n"
     ]
    }
   ],
   "source": [
    "df.info()"
   ],
   "metadata": {
    "collapsed": false,
    "ExecuteTime": {
     "end_time": "2023-11-19T20:17:20.617857400Z",
     "start_time": "2023-11-19T20:17:20.530091500Z"
    }
   },
   "id": "ccb4ba4293ab9c70"
  },
  {
   "cell_type": "code",
   "execution_count": 42,
   "outputs": [],
   "source": [
    "# Removendo valores nulos\n",
    "df.dropna(axis=0, inplace=True)\n"
   ],
   "metadata": {
    "collapsed": false,
    "ExecuteTime": {
     "end_time": "2023-11-19T20:17:20.645606300Z",
     "start_time": "2023-11-19T20:17:20.562445100Z"
    }
   },
   "id": "ad04559083122b85"
  },
  {
   "cell_type": "code",
   "execution_count": 43,
   "outputs": [],
   "source": [
    "# Selecionando as colunas que serão usadas para treinar o modelo\n",
    "features = ['Rooms', 'Bathroom', 'Landsize', 'Lattitude', 'Longtitude']\n",
    "\n",
    "# Definindo as variáveis preditoras e a variável alvo\n",
    "y = df['Price']\n",
    "X = df[features]"
   ],
   "metadata": {
    "collapsed": false,
    "ExecuteTime": {
     "end_time": "2023-11-19T20:17:20.717003Z",
     "start_time": "2023-11-19T20:17:20.577301Z"
    }
   },
   "id": "e6bf6dc242fd39bc"
  },
  {
   "cell_type": "code",
   "execution_count": 44,
   "outputs": [
    {
     "data": {
      "text/plain": "             Rooms     Bathroom      Landsize    Lattitude   Longtitude\ncount  6196.000000  6196.000000   6196.000000  6196.000000  6196.000000\nmean      2.931407     1.576340    471.006940   -37.807904   144.990201\nstd       0.971079     0.711362    897.449881     0.075850     0.099165\nmin       1.000000     1.000000      0.000000   -38.164920   144.542370\n25%       2.000000     1.000000    152.000000   -37.855438   144.926198\n50%       3.000000     1.000000    373.000000   -37.802250   144.995800\n75%       4.000000     2.000000    628.000000   -37.758200   145.052700\nmax       8.000000     8.000000  37000.000000   -37.457090   145.526350",
      "text/html": "<div>\n<style scoped>\n    .dataframe tbody tr th:only-of-type {\n        vertical-align: middle;\n    }\n\n    .dataframe tbody tr th {\n        vertical-align: top;\n    }\n\n    .dataframe thead th {\n        text-align: right;\n    }\n</style>\n<table border=\"1\" class=\"dataframe\">\n  <thead>\n    <tr style=\"text-align: right;\">\n      <th></th>\n      <th>Rooms</th>\n      <th>Bathroom</th>\n      <th>Landsize</th>\n      <th>Lattitude</th>\n      <th>Longtitude</th>\n    </tr>\n  </thead>\n  <tbody>\n    <tr>\n      <th>count</th>\n      <td>6196.000000</td>\n      <td>6196.000000</td>\n      <td>6196.000000</td>\n      <td>6196.000000</td>\n      <td>6196.000000</td>\n    </tr>\n    <tr>\n      <th>mean</th>\n      <td>2.931407</td>\n      <td>1.576340</td>\n      <td>471.006940</td>\n      <td>-37.807904</td>\n      <td>144.990201</td>\n    </tr>\n    <tr>\n      <th>std</th>\n      <td>0.971079</td>\n      <td>0.711362</td>\n      <td>897.449881</td>\n      <td>0.075850</td>\n      <td>0.099165</td>\n    </tr>\n    <tr>\n      <th>min</th>\n      <td>1.000000</td>\n      <td>1.000000</td>\n      <td>0.000000</td>\n      <td>-38.164920</td>\n      <td>144.542370</td>\n    </tr>\n    <tr>\n      <th>25%</th>\n      <td>2.000000</td>\n      <td>1.000000</td>\n      <td>152.000000</td>\n      <td>-37.855438</td>\n      <td>144.926198</td>\n    </tr>\n    <tr>\n      <th>50%</th>\n      <td>3.000000</td>\n      <td>1.000000</td>\n      <td>373.000000</td>\n      <td>-37.802250</td>\n      <td>144.995800</td>\n    </tr>\n    <tr>\n      <th>75%</th>\n      <td>4.000000</td>\n      <td>2.000000</td>\n      <td>628.000000</td>\n      <td>-37.758200</td>\n      <td>145.052700</td>\n    </tr>\n    <tr>\n      <th>max</th>\n      <td>8.000000</td>\n      <td>8.000000</td>\n      <td>37000.000000</td>\n      <td>-37.457090</td>\n      <td>145.526350</td>\n    </tr>\n  </tbody>\n</table>\n</div>"
     },
     "execution_count": 44,
     "metadata": {},
     "output_type": "execute_result"
    }
   ],
   "source": [
    "X.describe()"
   ],
   "metadata": {
    "collapsed": false,
    "ExecuteTime": {
     "end_time": "2023-11-19T20:17:20.769461200Z",
     "start_time": "2023-11-19T20:17:20.592350800Z"
    }
   },
   "id": "93305a71a5e90c04"
  },
  {
   "cell_type": "code",
   "execution_count": 45,
   "outputs": [
    {
     "data": {
      "text/plain": "   Rooms  Bathroom  Landsize  Lattitude  Longtitude\n1      2       1.0     156.0   -37.8079    144.9934\n2      3       2.0     134.0   -37.8093    144.9944\n4      4       1.0     120.0   -37.8072    144.9941\n6      3       2.0     245.0   -37.8024    144.9993\n7      2       1.0     256.0   -37.8060    144.9954",
      "text/html": "<div>\n<style scoped>\n    .dataframe tbody tr th:only-of-type {\n        vertical-align: middle;\n    }\n\n    .dataframe tbody tr th {\n        vertical-align: top;\n    }\n\n    .dataframe thead th {\n        text-align: right;\n    }\n</style>\n<table border=\"1\" class=\"dataframe\">\n  <thead>\n    <tr style=\"text-align: right;\">\n      <th></th>\n      <th>Rooms</th>\n      <th>Bathroom</th>\n      <th>Landsize</th>\n      <th>Lattitude</th>\n      <th>Longtitude</th>\n    </tr>\n  </thead>\n  <tbody>\n    <tr>\n      <th>1</th>\n      <td>2</td>\n      <td>1.0</td>\n      <td>156.0</td>\n      <td>-37.8079</td>\n      <td>144.9934</td>\n    </tr>\n    <tr>\n      <th>2</th>\n      <td>3</td>\n      <td>2.0</td>\n      <td>134.0</td>\n      <td>-37.8093</td>\n      <td>144.9944</td>\n    </tr>\n    <tr>\n      <th>4</th>\n      <td>4</td>\n      <td>1.0</td>\n      <td>120.0</td>\n      <td>-37.8072</td>\n      <td>144.9941</td>\n    </tr>\n    <tr>\n      <th>6</th>\n      <td>3</td>\n      <td>2.0</td>\n      <td>245.0</td>\n      <td>-37.8024</td>\n      <td>144.9993</td>\n    </tr>\n    <tr>\n      <th>7</th>\n      <td>2</td>\n      <td>1.0</td>\n      <td>256.0</td>\n      <td>-37.8060</td>\n      <td>144.9954</td>\n    </tr>\n  </tbody>\n</table>\n</div>"
     },
     "execution_count": 45,
     "metadata": {},
     "output_type": "execute_result"
    }
   ],
   "source": [
    "X.head()"
   ],
   "metadata": {
    "collapsed": false,
    "ExecuteTime": {
     "end_time": "2023-11-19T20:17:20.770527900Z",
     "start_time": "2023-11-19T20:17:20.631786700Z"
    }
   },
   "id": "c71d9736cdba3d"
  },
  {
   "cell_type": "code",
   "execution_count": 46,
   "outputs": [],
   "source": [
    "# Importando o train_test_split\n",
    "from sklearn.model_selection import train_test_split\n",
    "\n",
    "# Separando os dados em treino e validação\n",
    "train_X, val_X, train_y, val_y = train_test_split(X, y, random_state = 1)\n",
    "\n",
    "# Importando o modelo arvore de decisão\n",
    "from sklearn.tree import DecisionTreeRegressor\n",
    "\n",
    "# Definindo o modelo\n",
    "model = DecisionTreeRegressor(random_state=1)\n",
    "\n",
    "# Treinando o modelo\n",
    "model.fit(train_X, train_y)\n",
    "\n",
    "# Fazendo as previsões\n",
    "predictions = model.predict(val_X)"
   ],
   "metadata": {
    "collapsed": false,
    "ExecuteTime": {
     "end_time": "2023-11-19T20:17:20.772751700Z",
     "start_time": "2023-11-19T20:17:20.640303700Z"
    }
   },
   "id": "a899b368b7be9328"
  },
  {
   "cell_type": "code",
   "execution_count": 47,
   "outputs": [
    {
     "name": "stdout",
     "output_type": "stream",
     "text": [
      "251688.7630729503\n"
     ]
    }
   ],
   "source": [
    "# Calculando o erro absoluto médio\n",
    "from sklearn.metrics import mean_absolute_error\n",
    "\n",
    "print(mean_absolute_error(val_y, predictions))\n"
   ],
   "metadata": {
    "collapsed": false,
    "ExecuteTime": {
     "end_time": "2023-11-19T20:17:20.777744200Z",
     "start_time": "2023-11-19T20:17:20.703246900Z"
    }
   },
   "id": "f5517b0fbf3bfc44"
  }
 ],
 "metadata": {
  "kernelspec": {
   "display_name": "Python 3",
   "language": "python",
   "name": "python3"
  },
  "language_info": {
   "codemirror_mode": {
    "name": "ipython",
    "version": 2
   },
   "file_extension": ".py",
   "mimetype": "text/x-python",
   "name": "python",
   "nbconvert_exporter": "python",
   "pygments_lexer": "ipython2",
   "version": "2.7.6"
  }
 },
 "nbformat": 4,
 "nbformat_minor": 5
}
